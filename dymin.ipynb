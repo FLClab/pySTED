{
 "cells": [
  {
   "cell_type": "code",
   "execution_count": 1,
   "metadata": {},
   "outputs": [],
   "source": [
    "%load_ext autoreload\n",
    "%autoreload 2"
   ]
  },
  {
   "cell_type": "code",
   "execution_count": 76,
   "metadata": {},
   "outputs": [],
   "source": [
    "\n",
    "import numpy\n",
    "import time\n",
    "import random\n",
    "import os\n",
    "import multiprocessing\n",
    "\n",
    "from pysted import base, utils, raster, bleach_funcs, temporal, dymin\n",
    "from matplotlib import pyplot\n",
    "from tqdm.auto import trange\n",
    "from scipy import optimize\n",
    "\n",
    "numpy.random.seed(42)\n",
    "random.seed(42)\n",
    "\n",
    "# molecules_disposition = (numpy.random.rand(40, 40) > 0.9).astype(int) * 10\n",
    "delta = 1\n",
    "num_mol = 2\n",
    "molecules_disposition = numpy.zeros((50, 50))\n",
    "# molecules_disposition[\n",
    "#     molecules_disposition.shape[0]//2 - delta : molecules_disposition.shape[0]//2+delta + 1,\n",
    "#     molecules_disposition.shape[1]//2 - delta : molecules_disposition.shape[1]//2+delta + 1] = num_mol\n",
    "for j in range(1,4):\n",
    "    for i in range(1,4):\n",
    "#         molecules_disposition[\n",
    "#             i * molecules_disposition.shape[0]//4,\n",
    "#             j * molecules_disposition.shape[1]//4] = num_mol\n",
    "        molecules_disposition[\n",
    "            j * molecules_disposition.shape[0]//4 - delta : j * molecules_disposition.shape[0]//4 + delta + 1,\n",
    "            i * molecules_disposition.shape[1]//4 - delta : i * molecules_disposition.shape[1]//4 + delta + 1] = num_mol\n",
    "\n",
    "egfp = {\"lambda_\": 535e-9,\n",
    "        \"qy\": 0.6,\n",
    "        \"sigma_abs\": {488: 3e-20,\n",
    "                      575: 6e-21},\n",
    "        \"sigma_ste\": {560: 1.2e-20,\n",
    "                      575: 6.0e-21,\n",
    "                      580: 5.0e-21},\n",
    "        \"sigma_tri\": 1e-21,\n",
    "        \"tau\": 3e-09,\n",
    "        \"tau_vib\": 1.0e-12,\n",
    "        \"tau_tri\": 5e-6,\n",
    "        \"phy_react\": {488: 0.25e-7,   # 1e-4\n",
    "                      575: 1e-11},   # 1e-8\n",
    "        \"k_isc\": 0.26e6}\n",
    "pixelsize = 20e-9\n",
    "bleach = True\n",
    "p_ex = 2e-6\n",
    "p_ex_array = numpy.ones(molecules_disposition.shape) * p_ex\n",
    "p_sted = 2.5e-3\n",
    "p_sted_array = numpy.ones(molecules_disposition.shape) * p_sted\n",
    "pdt = 100e-6\n",
    "pdt_array = numpy.ones(molecules_disposition.shape) * pdt\n",
    "roi = 'max'\n",
    "\n",
    "params = {\n",
    "    \"pdt\":pdt, \n",
    "    \"p_ex\":p_ex, \n",
    "    \"p_sted\":p_sted\n",
    "}\n",
    "\n",
    "num_acquisition = 25\n",
    "\n",
    "# Generating objects necessary for acquisition simulation\n",
    "laser_ex = base.GaussianBeam(488e-9)\n",
    "laser_sted = base.DonutBeam(575e-9, zero_residual=0)\n",
    "detector = base.Detector(noise=True, background=0)\n",
    "objective = base.Objective()\n",
    "fluo = base.Fluorescence(**egfp)"
   ]
  },
  {
   "cell_type": "code",
   "execution_count": 77,
   "metadata": {},
   "outputs": [],
   "source": [
    "\n",
    "def acquire_all(experiment, num_acquisition, bleach=True, processes=0):\n",
    "    \"\"\"\n",
    "    Acquires from all microsopes\n",
    "\n",
    "    :param num_acquisition: An `int` of the number of acquired frames\n",
    "    :param bleach: A `bool` whether to bleach the sample\n",
    "    :param processes: An `int` of the number of processes to use in `multiprocessing`\n",
    "\n",
    "    :returns : A `dict` of the history for each microscope\n",
    "    \"\"\"\n",
    "    history = {}\n",
    "    if processes:\n",
    "        def log_callback(data):\n",
    "            name, hist = data\n",
    "            history[name] = hist\n",
    "        pool = multiprocessing.Pool(processes=processes)\n",
    "        calls = [pool.apply_async(experiment.acquire, kwds={\"name\":name, \"num_acquisition\":num_acquisition, \"bleach\":bleach, \"verbose\":True}, callback=log_callback)\n",
    "                    for name in experiment.microscopes.keys()]\n",
    "        pool.close()\n",
    "        pool.join()\n",
    "        for c in calls: c.get()\n",
    "    else:\n",
    "        for name in experiment.microscopes.keys():\n",
    "            name, out = experiment.acquire(name=name, num_acquisition=num_acquisition, bleach=bleach)\n",
    "            history[name] = out\n",
    "    return history    \n",
    "    \n",
    "def get_resolution(emitter, delta=8):\n",
    "    def gaussian(x,a,x0,sigma):\n",
    "        return a*numpy.exp(-(x-x0)**2/(2*sigma**2))\n",
    "    x, y = numpy.arange(emitter.shape[1]) - emitter.shape[1]//2, emitter[:, emitter.shape[1] // 2 - 2 : emitter.shape[1] // 2 + 2].mean(axis=-1)\n",
    "    center = len(x) // 2\n",
    "    x = x[center - delta : center + delta]\n",
    "    y = y[center - delta : center + delta]\n",
    "    try:\n",
    "        popt, pcov = optimize.curve_fit(gaussian, x, y, bounds=((-numpy.inf, -numpy.inf, 0), numpy.inf))\n",
    "    except RuntimeError:\n",
    "        return 0.\n",
    "#     fig, ax = pyplot.subplots()\n",
    "#     ax.plot(x, y)\n",
    "#     ax.plot(x, gaussian(x, *popt))\n",
    "#     pyplot.show()    \n",
    "    return 2 * numpy.sqrt(2 * numpy.log(2)) * popt[-1] * pixelsize * 1e+9\n",
    "\n",
    "def plot_and_gen_gif(histories, savename=None, keys=None, show_res=False):\n",
    "    from PIL import Image\n",
    "    def roundint(x, val=10):\n",
    "        return round(x / val) * val\n",
    "    def gen_frame(path):\n",
    "        im = Image.open(path)\n",
    "        alpha = im.getchannel('A')\n",
    "\n",
    "        # Convert the image into P mode but only use 255 colors in the palette out of 256\n",
    "        im = im.convert('RGB').convert('P', palette=Image.ADAPTIVE, colors=255)\n",
    "\n",
    "        # Set all pixel values below 128 to 255 , and the rest to 0\n",
    "        mask = Image.eval(alpha, lambda a: 255 if a <=128 else 0)\n",
    "\n",
    "        # Paste the color of index 255 and use alpha as a mask\n",
    "        im.paste(255, mask)\n",
    "\n",
    "        # The transparency index is 255\n",
    "        im.info['transparency'] = 255\n",
    "\n",
    "        return im        \n",
    "    \n",
    "    filenames = []\n",
    "    if isinstance(keys, type(None)):\n",
    "        keys = list(sorted(histories.keys()))\n",
    "    maxvalues = [roundint(histories[key][\"acquisition\"][0].max()) for key in keys]\n",
    "    print([(key, roundint(histories[key][\"acquisition\"][0].max())) for key in keys])\n",
    "    for i in range(histories[keys[0]][\"datamap\"].shape[0]):\n",
    "    \n",
    "        fig, axes = pyplot.subplots(len(keys), 3, figsize=(5, len(keys)+1), sharex=True, sharey=True)\n",
    "#         fig, axes = pyplot.subplots(len(keys), 3, figsize=(10, 5))\n",
    "        for n, key in enumerate(keys):\n",
    "            axes[n, 0].imshow(histories[key][\"datamap\"][i], vmin=0, vmax=histories[key][\"datamap\"][0].max(), cmap=\"gray\")\n",
    "            axes[n, 1].imshow(histories[key][\"scaled_power\"][i], vmin=0, vmax=1, cmap=\"Blues\")        \n",
    "            axes[n, 2].imshow(histories[key][\"acquisition\"][i], vmin=0, vmax=max(maxvalues), cmap=\"hot\")\n",
    "            if show_res:\n",
    "                axes[n, 2].set_title(\"{:0.1f} nm\".format(get_resolution(histories[key][\"acquisition\"][i])))\n",
    "            axes[n, 0].set(\n",
    "                ylabel=key\n",
    "            )\n",
    "        axes[0, 0].set(\n",
    "            title=f\"Frame {i}\"\n",
    "        )\n",
    "        for ax in axes.ravel():\n",
    "            pyplot.setp(ax.get_xticklabels(), visible=False)\n",
    "            pyplot.setp(ax.get_yticklabels(), visible=False)\n",
    "            ax.tick_params(axis='both', which='both', length=0)\n",
    "\n",
    "        if savename:\n",
    "            filename = f\"./panels/frame{i}.png\"\n",
    "            fig.savefig(filename, transparent=True, bbox_inches=\"tight\", dpi=300)\n",
    "            pyplot.close(\"all\")\n",
    "            filenames.append(filename)\n",
    "    \n",
    "    if savename:\n",
    "        image = gen_frame(filenames[0])\n",
    "        append_images = []\n",
    "        for filename in filenames[1:]:\n",
    "            append_images.append(gen_frame(filename))\n",
    "        image.save(savename, save_all=True, append_images=append_images, loop=0, duration=400, disposal=2, optimize=False)\n",
    "        for filename in filenames:\n",
    "            os.remove(filename)\n",
    "\n",
    "def plot_bleaching_curve(histories, savename=None, keys=None):\n",
    "    \"\"\"\n",
    "    Utilitary function to plot the normalized average number of molecules per frame\n",
    "    \n",
    "    :param histories: A `dict` of the history\n",
    "    :param savename: (optional) A `str` of the savepath\n",
    "    :param keys: (optional): A `list` of keys to access in the histories\n",
    "    \"\"\"\n",
    "    fig, ax = pyplot.subplots(figsize=(3, 3), tight_layout=True)\n",
    "    if isinstance(keys, type(None)):\n",
    "        keys = list(sorted(histories.keys()))\n",
    "    for key in keys:\n",
    "        init_mol = histories[key][\"datamap\"][0, molecules_disposition != 0].mean(axis=-1)\n",
    "        molecules = histories[key][\"datamap\"][:, molecules_disposition != 0].mean(axis=-1) / init_mol\n",
    "        ax.plot(molecules, label=key)\n",
    "    ax.set(\n",
    "        ylabel=\"Avg. molecules left\", xlabel=\"Frames\"\n",
    "    )\n",
    "    ax.legend()\n",
    "    if isinstance(savename, str):\n",
    "        fig.savefig(savename, transparent=True, bbox_inches=\"tight\")\n",
    "        pyplot.close(\"all\")\n",
    "    else:\n",
    "        pyplot.show()"
   ]
  },
  {
   "cell_type": "markdown",
   "metadata": {},
   "source": [
    "# Compare DyMIN and Conventional"
   ]
  },
  {
   "cell_type": "code",
   "execution_count": 78,
   "metadata": {},
   "outputs": [],
   "source": [
    "experiment = utils.Experiment()\n",
    "\n",
    "# Create the DyMIN microscope\n",
    "opts = {\n",
    "    \"scale_power\" : [0., 0.25, 1.],\n",
    "    \"decision_time\" : [10e-6, 10e-6, -1],\n",
    "    \"threshold_count\" : [8, 8, 0]\n",
    "}\n",
    "datamap = base.Datamap(molecules_disposition, pixelsize)\n",
    "microscope = dymin.DyMINMicroscope(laser_ex, laser_sted, detector, objective, fluo, opts=opts)\n",
    "i_ex, _, _ = microscope.cache(datamap.pixelsize, save_cache=True)\n",
    "datamap.set_roi(i_ex, roi)\n",
    "experiment.add(\"DyMIN\", microscope, datamap, params=params)\n",
    "\n",
    "# Create the STED microscope\n",
    "datamap = base.Datamap(molecules_disposition, pixelsize)\n",
    "microscope = base.Microscope(laser_ex, laser_sted, detector, objective, fluo)\n",
    "i_ex, _, _ = microscope.cache(datamap.pixelsize, save_cache=True)\n",
    "datamap.set_roi(i_ex, roi)\n",
    "experiment.add(\"STED\", microscope, datamap, params=params)"
   ]
  },
  {
   "cell_type": "code",
   "execution_count": 80,
   "metadata": {},
   "outputs": [],
   "source": [
    "histories = acquire_all(experiment, num_acquisition, bleach=True, processes=2)"
   ]
  },
  {
   "cell_type": "code",
   "execution_count": 82,
   "metadata": {
    "scrolled": false
   },
   "outputs": [],
   "source": [
    "# plot_and_gen_gif(histories, show_res=True)\n",
    "# plot_and_gen_gif(histories, show_res=True, savename=\"./panels/image_dymin-conventional_multiplesources-wnoise.gif\")\n",
    "plot_bleaching_curve(histories, keys=[\"STED\", \"DyMIN\"], savename=\"./panels/bleachingcurve_dymin-conventional_multiplesources-wnoise.pdf\")"
   ]
  },
  {
   "cell_type": "markdown",
   "metadata": {},
   "source": [
    "# Compare reducing number of molecules"
   ]
  },
  {
   "cell_type": "code",
   "execution_count": 36,
   "metadata": {},
   "outputs": [],
   "source": [
    "experiment = utils.Experiment()\n",
    "\n",
    "for num_mol in range(2, 12, 4):\n",
    "    molecules_disposition = numpy.zeros((50, 50))\n",
    "    for i in range(1,4):\n",
    "        for j in range(1,4):\n",
    "            molecules_disposition[\n",
    "                i * molecules_disposition.shape[0]//4,\n",
    "                j * molecules_disposition.shape[1]//4] = num_mol\n",
    "            \n",
    "    # Create the DyMIN microscope\n",
    "    opts = {\n",
    "        \"scale_power\" : [0., 0.25, 1.],\n",
    "        \"decision_time\" : [10e-6, 10e-6, -1],\n",
    "        \"threshold_count\" : [10, 5, 0]    \n",
    "    }\n",
    "    datamap = base.Datamap(molecules_disposition, pixelsize)\n",
    "    microscope = dymin.DyMINMicroscope(laser_ex, laser_sted, detector, objective, fluo, opts=opts)\n",
    "    i_ex, _, _ = microscope.cache(datamap.pixelsize, save_cache=True)\n",
    "    datamap.set_roi(i_ex, roi)\n",
    "    experiment.add(\"DyMIN-{:02d}\".format(num_mol), microscope, datamap, params=params)"
   ]
  },
  {
   "cell_type": "code",
   "execution_count": 37,
   "metadata": {},
   "outputs": [],
   "source": [
    "histories = acquire_all(experiment, 1, bleach=False, processes=4)"
   ]
  },
  {
   "cell_type": "code",
   "execution_count": 42,
   "metadata": {},
   "outputs": [
    {
     "name": "stdout",
     "output_type": "stream",
     "text": [
      "[('DyMIN-02', 0), ('DyMIN-06', 0), ('DyMIN-10', 120)]\n"
     ]
    }
   ],
   "source": [
    "plot_and_gen_gif(histories, show_res=True, savename=\"./panels/compare_dymin-number-molecules_multiplesources.gif\")"
   ]
  },
  {
   "cell_type": "markdown",
   "metadata": {},
   "source": [
    "# Compare different structures"
   ]
  },
  {
   "cell_type": "markdown",
   "metadata": {},
   "source": [
    "## Multiple point sources"
   ]
  },
  {
   "cell_type": "code",
   "execution_count": null,
   "metadata": {},
   "outputs": [],
   "source": [
    "# Creates a new molecule disposition\n",
    "numpy.random.seed(42)\n",
    "random.seed(42)\n",
    "\n",
    "# p_ex = 1e-6\n",
    "# p_ex_array = numpy.ones(molecules_disposition.shape) * p_ex\n",
    "# p_sted = 2.5e-3\n",
    "# p_sted_array = numpy.ones(molecules_disposition.shape) * p_sted\n",
    "# pdt = 100e-6\n",
    "# pdt_array = numpy.ones(molecules_disposition.shape) * pdt\n",
    "\n",
    "molecules_disposition = (numpy.random.rand(50, 50) > 0.99).astype(int) * 16\n",
    "\n",
    "experiment = utils.Experiment()\n",
    "\n",
    "opts = {\n",
    "    \"scale_power\" : [0., 0.25, 1.],\n",
    "    \"decision_time\" : [10e-6, 10e-6, None],\n",
    "    \"threshold_count\" : [2, 2, 0]    \n",
    "}\n",
    "datamap = base.Datamap(molecules_disposition, pixelsize)\n",
    "microscope = dymin.DyMINMicroscope(laser_ex, laser_sted, detector, objective, fluo, opts=opts)\n",
    "i_ex, _, _ = microscope.cache(datamap.pixelsize, save_cache=True)\n",
    "datamap.set_roi(i_ex, roi)\n",
    "experiment.add(\"DyMIN\", microscope, datamap)\n",
    "\n",
    "datamap = base.Datamap(molecules_disposition, pixelsize)\n",
    "microscope = base.Microscope(laser_ex, laser_sted, detector, objective, fluo)\n",
    "i_ex, _, _ = microscope.cache(datamap.pixelsize, save_cache=True)\n",
    "datamap.set_roi(i_ex, roi)\n",
    "experiment.add(\"STED\", microscope, datamap)"
   ]
  },
  {
   "cell_type": "code",
   "execution_count": null,
   "metadata": {},
   "outputs": [],
   "source": [
    "histories = experiment.acquire_all(num_acquisition=2, processes=2, bleach=True)"
   ]
  },
  {
   "cell_type": "code",
   "execution_count": null,
   "metadata": {},
   "outputs": [],
   "source": [
    "%matplotlib inline\n",
    "# plot_and_gen_gif(histories, savename=\"./panels/compare_dymin-conventional_default-structure.gif\")\n",
    "plot_and_gen_gif(histories, show_res=False)\n",
    "\n",
    "fig, ax = pyplot.subplots(figsize=(3, 3), tight_layout=True)\n",
    "for key in [\"STED\", \"DyMIN\"]:\n",
    "    molecules = histories[key][\"datamap\"][:, molecules_disposition != 0].mean(axis=-1)\n",
    "    ax.plot(molecules, label=key)\n",
    "ax.set(\n",
    "    ylabel=\"Avg. molecules left\", xlabel=\"Frames\"\n",
    ")\n",
    "ax.legend()\n",
    "# fig.savefig(\"./panels/molecules-structure_evolution.pdf\", transparent=True, bbox_inches=\"tight\")\n",
    "pyplot.show()"
   ]
  },
  {
   "cell_type": "markdown",
   "metadata": {},
   "source": [
    "## Fiber-like structure"
   ]
  },
  {
   "cell_type": "code",
   "execution_count": 83,
   "metadata": {},
   "outputs": [
    {
     "data": {
      "application/vnd.jupyter.widget-view+json": {
       "model_id": "",
       "version_major": 2,
       "version_minor": 0
      },
      "text/plain": [
       "Objects:   0%|          | 0/10 [00:00<?, ?it/s]"
      ]
     },
     "metadata": {},
     "output_type": "display_data"
    },
    {
     "data": {
      "image/png": "[encoded data removed]",
      "text/plain": [
       "<Figure size 432x288 with 1 Axes>"
      ]
     },
     "metadata": {
      "needs_background": "light"
     },
     "output_type": "display_data"
    }
   ],
   "source": [
    "from skimage import morphology\n",
    "# Creates a new molecule disposition\n",
    "numpy.random.seed(42)\n",
    "random.seed(42)\n",
    "\n",
    "image = numpy.zeros((50, 50))\n",
    "ensemble = temporal.Ensemble(roi=((0, 0), image.shape))\n",
    "for _ in trange(10, desc=\"Objects\", leave=False):\n",
    "    obj = temporal.Fiber(random_params={\n",
    "        \"num_points\" : (30, 50),\n",
    "        \"pos\" : [(0, 0), image.shape]\n",
    "    })\n",
    "    ensemble.append(obj)\n",
    "molecules_disposition = ensemble.return_frame() > 0\n",
    "molecules_disposition = morphology.binary_dilation(molecules_disposition)\n",
    "molecules_disposition[molecules_disposition != 0] = 2\n",
    "\n",
    "fig, ax = pyplot.subplots()\n",
    "ax.imshow(molecules_disposition)\n",
    "pyplot.show()\n",
    "\n",
    "experiment = utils.Experiment()\n",
    "\n",
    "opts = {\n",
    "    \"scale_power\" : [0., 0.25, 1.],\n",
    "    \"decision_time\" : [10e-6, 10e-6, -1],\n",
    "    \"threshold_count\" : [8, 8, 0]    \n",
    "}\n",
    "datamap = base.Datamap(molecules_disposition, pixelsize)\n",
    "microscope = dymin.DyMINMicroscope(laser_ex, laser_sted, detector, objective, fluo, opts=opts)\n",
    "i_ex, _, _ = microscope.cache(datamap.pixelsize, save_cache=True)\n",
    "datamap.set_roi(i_ex, roi)\n",
    "experiment.add(\"DyMIN\", microscope, datamap, params=params)\n",
    "\n",
    "datamap = base.Datamap(molecules_disposition, pixelsize)\n",
    "microscope = base.Microscope(laser_ex, laser_sted, detector, objective, fluo)\n",
    "i_ex, _, _ = microscope.cache(datamap.pixelsize, save_cache=True)\n",
    "datamap.set_roi(i_ex, roi)\n",
    "experiment.add(\"STED\", microscope, datamap, params=params)"
   ]
  },
  {
   "cell_type": "code",
   "execution_count": 84,
   "metadata": {},
   "outputs": [],
   "source": [
    "histories = acquire_all(experiment, num_acquisition=num_acquisition, processes=2, bleach=True)"
   ]
  },
  {
   "cell_type": "code",
   "execution_count": 85,
   "metadata": {},
   "outputs": [
    {
     "name": "stdout",
     "output_type": "stream",
     "text": [
      "[('DyMIN', 180), ('STED', 150)]\n"
     ]
    }
   ],
   "source": [
    "plot_and_gen_gif(histories, savename=\"./panels/compare_dymin-conventional_fiber-structure.gif\")\n",
    "plot_bleaching_curve(histories, keys=[\"STED\", \"DyMIN\"], savename=\"./panels/bleachingcurve_dymin-conventional_fiber-structure.pdf\")"
   ]
  },
  {
   "cell_type": "markdown",
   "metadata": {},
   "source": [
    "# Compare DyMIN parameters"
   ]
  },
  {
   "cell_type": "code",
   "execution_count": 45,
   "metadata": {},
   "outputs": [],
   "source": [
    "# Creates a new molecule disposition\n",
    "numpy.random.seed(42)\n",
    "random.seed(42)\n",
    "\n",
    "delta = 1\n",
    "num_mol = 2\n",
    "molecules_disposition = numpy.zeros((50, 50))\n",
    "# molecules_disposition[\n",
    "#     molecules_disposition.shape[0]//2 - delta : molecules_disposition.shape[0]//2+delta + 1,\n",
    "#     molecules_disposition.shape[1]//2 - delta : molecules_disposition.shape[1]//2+delta + 1] = num_mol\n",
    "for j in range(1,4):\n",
    "    for i in range(1,4):\n",
    "#         molecules_disposition[\n",
    "#             i * molecules_disposition.shape[0]//4,\n",
    "#             j * molecules_disposition.shape[1]//4] = num_mol\n",
    "        molecules_disposition[\n",
    "            j * molecules_disposition.shape[0]//4 - delta : j * molecules_disposition.shape[0]//4 + delta + 1,\n",
    "            i * molecules_disposition.shape[1]//4 - delta : i * molecules_disposition.shape[1]//4 + delta + 1] = num_mol\n",
    "\n",
    "experiment = utils.Experiment()\n",
    "\n",
    "opts = {\n",
    "    \"scale_power\" : [0., 0.25, 1.],\n",
    "    \"decision_time\" : [10e-6, 10e-6, -1],\n",
    "    \"threshold_count\" : [20, 10, 0]\n",
    "}\n",
    "datamap = base.Datamap(molecules_disposition, pixelsize)\n",
    "microscope = dymin.DyMINMicroscope(laser_ex, laser_sted, detector, objective, fluo, opts)\n",
    "i_ex, _, _ = microscope.cache(datamap.pixelsize, save_cache=True)\n",
    "datamap.set_roi(i_ex, roi)\n",
    "experiment.add(\"tc20-10\", microscope, datamap, params=params)\n",
    "\n",
    "\n",
    "opts = {\n",
    "    \"scale_power\" : [0., 0.25, 1.],\n",
    "    \"decision_time\" : [10e-6, 10e-6, -1],\n",
    "    \"threshold_count\" : [10, 5, 0]\n",
    "}\n",
    "datamap = base.Datamap(molecules_disposition, pixelsize)\n",
    "microscope = dymin.DyMINMicroscope(laser_ex, laser_sted, detector, objective, fluo, opts)\n",
    "i_ex, _, _ = microscope.cache(datamap.pixelsize, save_cache=True)\n",
    "datamap.set_roi(i_ex, roi)\n",
    "experiment.add(\"tc10-5\", microscope, datamap, params=params)\n",
    "\n",
    "opts = {\n",
    "    \"scale_power\" : [0., 0.25, 1.],\n",
    "    \"decision_time\" : [10e-6, 10e-6, -1],\n",
    "    \"threshold_count\" : [5, 2, 0]\n",
    "}\n",
    "datamap = base.Datamap(molecules_disposition, pixelsize)\n",
    "microscope = dymin.DyMINMicroscope(laser_ex, laser_sted, detector, objective, fluo, opts)\n",
    "i_ex, _, _ = microscope.cache(datamap.pixelsize, save_cache=True)\n",
    "datamap.set_roi(i_ex, roi)\n",
    "experiment.add(\"tc5-2\", microscope, datamap, params=params)\n",
    "\n",
    "opts = {\n",
    "    \"scale_power\" : [0., 0.25, 1.],\n",
    "    \"decision_time\" : [10e-6, 10e-6, -1],\n",
    "    \"threshold_count\" : [1, 1, 0]\n",
    "}\n",
    "datamap = base.Datamap(molecules_disposition, pixelsize)\n",
    "microscope = dymin.DyMINMicroscope(laser_ex, laser_sted, detector, objective, fluo, opts)\n",
    "i_ex, _, _ = microscope.cache(datamap.pixelsize, save_cache=True)\n",
    "datamap.set_roi(i_ex, roi)\n",
    "experiment.add(\"tc1-1\", microscope, datamap, params=params)"
   ]
  },
  {
   "cell_type": "code",
   "execution_count": 46,
   "metadata": {},
   "outputs": [],
   "source": [
    "histories = acquire_all(experiment, num_acquisition=25, processes=4, bleach=True)"
   ]
  },
  {
   "cell_type": "code",
   "execution_count": 51,
   "metadata": {},
   "outputs": [],
   "source": [
    "plot_and_gen_gif(histories, savename=\"./panels/compare_dymin-parameters_multiplesources.gif\", keys=[\"tc20-10\", \"tc10-5\", \"tc5-2\", \"tc1-1\"])\n",
    "plot_bleaching_curve(histories, savename=\"./panels/bleachcurve_dymin-parameters_multiplesources.pdf\", keys=[\"tc20-10\", \"tc10-5\", \"tc5-2\", \"tc1-1\"])"
   ]
  },
  {
   "cell_type": "markdown",
   "metadata": {},
   "source": [
    "# Increased intensity"
   ]
  },
  {
   "cell_type": "code",
   "execution_count": null,
   "metadata": {},
   "outputs": [],
   "source": [
    "# Microscope stuff\n",
    "egfp = {\"lambda_\": 535e-9,\n",
    "        \"qy\": 0.6,\n",
    "        \"sigma_abs\": {488: 1.15e-20,\n",
    "                      575: 6e-21},\n",
    "        \"sigma_ste\": {560: 1.2e-20,\n",
    "                      575: 6.0e-21,\n",
    "                      580: 5.0e-21},\n",
    "        \"sigma_tri\": 1e-21,\n",
    "        \"tau\": 3e-09,\n",
    "        \"tau_vib\": 1.0e-12,\n",
    "        \"tau_tri\": 5e-6,\n",
    "        \"phy_react\": {488: 1e-7,   # 1e-4\n",
    "                      575: 1e-11},   # 1e-8\n",
    "        \"k_isc\": 0.26e6}\n",
    "pixelsize = 10e-9\n",
    "bleach = True\n",
    "p_ex = 1e-6\n",
    "p_ex_array = numpy.ones(molecules_disposition.shape) * p_ex\n",
    "p_sted = 30e-3\n",
    "p_sted_array = numpy.ones(molecules_disposition.shape) * p_sted\n",
    "pdt = 100e-6\n",
    "pdt_array = numpy.ones(molecules_disposition.shape) * pdt\n",
    "roi = 'max'\n",
    "\n",
    "# Generating objects necessary for acquisition simulation\n",
    "laser_ex = base.GaussianBeam(488e-9)\n",
    "laser_sted = base.DonutBeam(575e-9, zero_residual=0)\n",
    "detector = base.Detector(noise=True, background=0)\n",
    "objective = base.Objective()\n",
    "fluo = base.Fluorescence(**egfp)\n",
    "\n",
    "experiment = Experiment()\n",
    "\n",
    "opts = {\n",
    "    \"scale_power\" : [0., 0.25, 1.],\n",
    "    \"decision_time\" : [10e-6, 10e-6, None],\n",
    "    \"threshold_count\" : [10, 5, 0]\n",
    "}\n",
    "datamap = base.Datamap(molecules_disposition, pixelsize)\n",
    "microscope = dymin.DyMINMicroscope(laser_ex, laser_sted, detector, objective, fluo, opts)\n",
    "i_ex, _, _ = microscope.cache(datamap.pixelsize, save_cache=True)\n",
    "datamap.set_roi(i_ex, roi)\n",
    "experiment.add(\"DyMIN\", microscope, datamap)\n",
    "\n",
    "datamap = base.Datamap(molecules_disposition, pixelsize)\n",
    "microscope = base.Microscope(laser_ex, laser_sted, detector, objective, fluo)\n",
    "i_ex, _, _ = microscope.cache(datamap.pixelsize, save_cache=True)\n",
    "datamap.set_roi(i_ex, roi)\n",
    "experiment.add(\"STED\", microscope, datamap)"
   ]
  },
  {
   "cell_type": "code",
   "execution_count": null,
   "metadata": {},
   "outputs": [],
   "source": [
    "histories = experiment.acquire_all(num_acquisition=2, bleach=True, processes=2)"
   ]
  },
  {
   "cell_type": "code",
   "execution_count": null,
   "metadata": {
    "scrolled": false
   },
   "outputs": [],
   "source": [
    "plot_and_gen_gif(histories)"
   ]
  },
  {
   "cell_type": "code",
   "execution_count": null,
   "metadata": {},
   "outputs": [],
   "source": [
    "image = numpy.random.rand(4,5)\n",
    "print(image)\n",
    "fig, ax = pyplot.subplots()\n",
    "ax.imshow(image)\n",
    "pyplot.show()"
   ]
  },
  {
   "cell_type": "code",
   "execution_count": null,
   "metadata": {},
   "outputs": [],
   "source": []
  }
 ],
 "metadata": {
  "kernelspec": {
   "display_name": "Python 3",
   "language": "python",
   "name": "python3"
  },
  "language_info": {
   "codemirror_mode": {
    "name": "ipython",
    "version": 3
   },
   "file_extension": ".py",
   "mimetype": "text/x-python",
   "name": "python",
   "nbconvert_exporter": "python",
   "pygments_lexer": "ipython3",
   "version": "3.8.8"
  }
 },
 "nbformat": 4,
 "nbformat_minor": 2
}
