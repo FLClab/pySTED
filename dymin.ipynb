{
 "cells": [
  {
   "cell_type": "code",
   "execution_count": 60,
   "metadata": {},
   "outputs": [
    {
     "name": "stdout",
     "output_type": "stream",
     "text": [
      "The autoreload extension is already loaded. To reload it, use:\n",
      "  %reload_ext autoreload\n"
     ]
    }
   ],
   "source": [
    "%load_ext autoreload\n",
    "%autoreload 2"
   ]
  },
  {
   "cell_type": "code",
   "execution_count": 61,
   "metadata": {},
   "outputs": [],
   "source": [
    "\n",
    "import numpy\n",
    "import time\n",
    "import random\n",
    "import os\n",
    "import multiprocessing\n",
    "\n",
    "from pysted import base, utils, raster, bleach_funcs, temporal\n",
    "from matplotlib import pyplot\n",
    "from tqdm.auto import trange\n",
    "\n",
    "import dymin\n",
    "\n",
    "numpy.random.seed(42)\n",
    "random.seed(42)\n",
    "\n",
    "# molecules_disposition = (numpy.random.rand(40, 40) > 0.9).astype(int) * 10\n",
    "delta = 2\n",
    "molecules_disposition = numpy.zeros((50, 50))\n",
    "molecules_disposition[\n",
    "    molecules_disposition.shape[0]//2 - delta : molecules_disposition.shape[0]//2+delta,\n",
    "    molecules_disposition.shape[1]//2 - delta : molecules_disposition.shape[1]//2+delta] = 10\n",
    "\n",
    "# Microscope stuff\n",
    "egfp = {\"lambda_\": 535e-9,\n",
    "        \"qy\": 0.6,\n",
    "        \"sigma_abs\": {488: 1.15e-20,\n",
    "                      575: 6e-21},\n",
    "        \"sigma_ste\": {560: 1.2e-20,\n",
    "                      575: 6.0e-21,\n",
    "                      580: 5.0e-21},\n",
    "        \"sigma_tri\": 1e-21,\n",
    "        \"tau\": 3e-09,\n",
    "        \"tau_vib\": 1.0e-12,\n",
    "        \"tau_tri\": 5e-6,\n",
    "        \"phy_react\": {488: 1e-7,   # 1e-4\n",
    "                      575: 1e-11},   # 1e-8\n",
    "        \"k_isc\": 0.26e6}\n",
    "pixelsize = 10e-9\n",
    "bleach = True\n",
    "p_ex = 1e-6\n",
    "p_ex_array = numpy.ones(molecules_disposition.shape) * p_ex\n",
    "p_sted = 30e-3\n",
    "p_sted_array = numpy.ones(molecules_disposition.shape) * p_sted\n",
    "pdt = 100e-6\n",
    "pdt_array = numpy.ones(molecules_disposition.shape) * pdt\n",
    "roi = 'max'\n",
    "num_acquisition = 10\n",
    "\n",
    "# Generating objects necessary for acquisition simulation\n",
    "laser_ex = base.GaussianBeam(488e-9)\n",
    "laser_sted = base.DonutBeam(575e-9, zero_residual=0)\n",
    "detector = base.Detector(noise=True, background=0)\n",
    "objective = base.Objective()\n",
    "fluo = base.Fluorescence(**egfp)"
   ]
  },
  {
   "cell_type": "code",
   "execution_count": 62,
   "metadata": {},
   "outputs": [],
   "source": [
    "class Experiment():\n",
    "    def __init__(self):\n",
    "        self.microscopes = {}\n",
    "        self.datamaps = {}\n",
    "        \n",
    "    def add(self, name, microscope, datamap):\n",
    "        \"\"\"\n",
    "        Adds a microscope and its corresponding datamap to the experiment\n",
    "        \n",
    "        :param name: A `str` of the name of the microscope\n",
    "        :param microscope: A `Microscope` object\n",
    "        :param datamap: A `Datamap` object\n",
    "        \"\"\"\n",
    "        self.microscopes[name] = microscope\n",
    "        self.datamaps[name] = datamap\n",
    "    \n",
    "    def acquire(self, name, num_acquisition, bleach=True):\n",
    "        \"\"\"\n",
    "        Acquires from a specific microscope\n",
    "        \n",
    "        :param name: A `str` of the name of the microscope\n",
    "        :param num_acquisition: An `int` of the number of acquired frames\n",
    "        :param bleach: A `bool` whether to bleach the sample\n",
    "        \n",
    "        :returns : A `str` of the name of the microscope\n",
    "                   A `dict` of the history\n",
    "        \"\"\"\n",
    "        history = {\n",
    "            \"acquisition\" : numpy.zeros((num_acquisition, *self.datamaps[name].sub_datamaps_dict[\"base\"][datamap.roi].shape)),\n",
    "            \"datamap\" : numpy.zeros((num_acquisition, *self.datamaps[name].sub_datamaps_dict[\"base\"][datamap.roi].shape)),\n",
    "            \"scaled_power\" : numpy.ones((num_acquisition, *self.datamaps[name].sub_datamaps_dict[\"base\"][datamap.roi].shape))\n",
    "        }\n",
    "        \n",
    "        for i in trange(num_acquisition):\n",
    "            history[\"datamap\"][i] = self.datamaps[name].whole_datamap[datamap.roi]\n",
    "            acquisition, bleached, other = self.microscopes[name].get_signal_and_bleach(self.datamaps[name], self.datamaps[name].pixelsize, pdt, p_ex, p_sted,\n",
    "                                                                                bleach=bleach, update=True)\n",
    "            history[\"acquisition\"][i] = acquisition\n",
    "            if isinstance(self.microscopes[name], dymin.DyMINMicroscope):\n",
    "                history[\"scaled_power\"][i] = other                \n",
    "            else:\n",
    "                history[\"scaled_power\"][i] = numpy.ones_like(history[\"scaled_power\"][i])\n",
    "        return name, history\n",
    "\n",
    "    def acquire_all(self, num_acquisition, bleach=True, processes=0):\n",
    "        \"\"\"\n",
    "        Acquires from all microsopes\n",
    "        \n",
    "        :param num_acquisition: An `int` of the number of acquired frames\n",
    "        :param bleach: A `bool` whether to bleach the sample\n",
    "        :param processes: An `int` of the number of processes to use in `multiprocessing`\n",
    "        \n",
    "        :returns : A `dict` of the history for each microscope\n",
    "        \"\"\"\n",
    "        history = {}\n",
    "        if processes:\n",
    "            def log_callback(data):\n",
    "                name, hist = data\n",
    "                history[name] = hist\n",
    "            pool = multiprocessing.Pool(processes=processes)\n",
    "            calls = [pool.apply_async(self.acquire, kwds={\"name\":name, \"num_acquisition\":num_acquisition, \"bleach\":bleach}, callback=log_callback)\n",
    "                        for name in self.microscopes.keys()]\n",
    "            pool.close()\n",
    "            pool.join()\n",
    "            for c in calls: c.get()\n",
    "        else:\n",
    "            for name in self.microscopes.keys():\n",
    "                name, out = self.acquire(name=name, num_acquisition=num_acquisition, bleach=bleach)\n",
    "                history[name] = out\n",
    "        return history"
   ]
  },
  {
   "cell_type": "markdown",
   "metadata": {},
   "source": [
    "# Compare DyMIN and Conventional"
   ]
  },
  {
   "cell_type": "code",
   "execution_count": 63,
   "metadata": {},
   "outputs": [],
   "source": [
    "experiment = Experiment()\n",
    "\n",
    "# Create the DyMIN microscope\n",
    "datamap = base.Datamap(molecules_disposition, pixelsize)\n",
    "microscope = dymin.DyMINMicroscope(laser_ex, laser_sted, detector, objective, fluo)\n",
    "i_ex, _, _ = microscope.cache(datamap.pixelsize, save_cache=True)\n",
    "datamap.set_roi(i_ex, roi)\n",
    "experiment.add(\"DyMIN\", microscope, datamap)\n",
    "\n",
    "# Create the STED microscope\n",
    "datamap = base.Datamap(molecules_disposition, pixelsize)\n",
    "microscope = base.Microscope(laser_ex, laser_sted, detector, objective, fluo)\n",
    "i_ex, _, _ = microscope.cache(datamap.pixelsize, save_cache=True)\n",
    "datamap.set_roi(i_ex, roi)\n",
    "experiment.add(\"STED\", microscope, datamap)"
   ]
  },
  {
   "cell_type": "code",
   "execution_count": 64,
   "metadata": {},
   "outputs": [
    {
     "name": "stdout",
     "output_type": "stream",
     "text": [
      "\n",
      "\n"
     ]
    }
   ],
   "source": [
    "# dymin_history = experiment.acquire(\"DyMIN\", 10)\n",
    "# history = experiment.acquire(\"STED\", 10)\n",
    "histories = experiment.acquire_all(num_acquisition, bleach=True, processes=2)"
   ]
  },
  {
   "cell_type": "code",
   "execution_count": 65,
   "metadata": {
    "scrolled": true
   },
   "outputs": [
    {
     "data": {
      "image/png": "[encoded data removed]",
      "text/plain": [
       "<Figure size 216x216 with 1 Axes>"
      ]
     },
     "metadata": {
      "needs_background": "light"
     },
     "output_type": "display_data"
    }
   ],
   "source": [
    "%matplotlib inline\n",
    "def plot_and_gen_gif(histories, savename=None, keys=None):\n",
    "    from PIL import Image\n",
    "    def gen_frame(path):\n",
    "        im = Image.open(path)\n",
    "        alpha = im.getchannel('A')\n",
    "\n",
    "        # Convert the image into P mode but only use 255 colors in the palette out of 256\n",
    "        im = im.convert('RGB').convert('P', palette=Image.ADAPTIVE, colors=255)\n",
    "\n",
    "        # Set all pixel values below 128 to 255 , and the rest to 0\n",
    "        mask = Image.eval(alpha, lambda a: 255 if a <=128 else 0)\n",
    "\n",
    "        # Paste the color of index 255 and use alpha as a mask\n",
    "        im.paste(255, mask)\n",
    "\n",
    "        # The transparency index is 255\n",
    "        im.info['transparency'] = 255\n",
    "\n",
    "        return im        \n",
    "    \n",
    "    filenames = []\n",
    "    if isinstance(keys, type(None)):\n",
    "        keys = list(sorted(histories.keys()))\n",
    "    \n",
    "    for i in range(histories[keys[0]][\"datamap\"].shape[0]):\n",
    "    \n",
    "        fig, axes = pyplot.subplots(len(keys), 3, figsize=(5, len(keys)+1), sharex=True, sharey=True)\n",
    "        for n, key in enumerate(keys):\n",
    "            axes[n, 0].imshow(histories[key][\"datamap\"][i], vmin=0, vmax=10, cmap=\"gray\")\n",
    "            axes[n, 1].imshow(histories[key][\"scaled_power\"][i], vmin=0, vmax=1, cmap=\"Blues\")        \n",
    "            axes[n, 2].imshow(histories[key][\"acquisition\"][i], vmin=0, vmax=100, cmap=\"hot\")\n",
    "            axes[n, 0].set(\n",
    "                ylabel=key\n",
    "            )\n",
    "        axes[0, 0].set(\n",
    "            title=f\"Frame {i}\"\n",
    "        )\n",
    "        for ax in axes.ravel():\n",
    "            pyplot.setp(ax.get_xticklabels(), visible=False)\n",
    "            pyplot.setp(ax.get_yticklabels(), visible=False)\n",
    "            ax.tick_params(axis='both', which='both', length=0)\n",
    "\n",
    "        if savename:\n",
    "            filename = f\"./panels/frame{i}.png\"\n",
    "            fig.savefig(filename, transparent=True, bbox_inches=\"tight\", dpi=300)\n",
    "            pyplot.close(\"all\")\n",
    "            filenames.append(filename)\n",
    "    \n",
    "    if savename:\n",
    "        image = gen_frame(filenames[0])\n",
    "        append_images = []\n",
    "        for filename in filenames[1:]:\n",
    "            append_images.append(gen_frame(filename))\n",
    "        image.save(savename, save_all=True, append_images=append_images, loop=0, duration=400, disposal=2, optimize=False)\n",
    "        for filename in filenames:\n",
    "            os.remove(filename)\n",
    "\n",
    "plot_and_gen_gif(histories, savename=\"./panels/compare_dymin-conventional_default.gif\")\n",
    "\n",
    "fig, ax = pyplot.subplots(figsize=(3, 3), tight_layout=True)\n",
    "for key in [\"STED\", \"DyMIN\"]:\n",
    "    molecules = histories[key][\"datamap\"][:, molecules_disposition != 0].mean(axis=-1)\n",
    "    ax.plot(molecules)\n",
    "ax.set(\n",
    "    ylabel=\"Avg. molecules left\", xlabel=\"Frames\"\n",
    ")\n",
    "ax.legend(labels=[\"Conventional\", \"DyMIN\"])\n",
    "fig.savefig(\"./panels/molecules_evolution.pdf\", transparent=True, bbox_inches=\"tight\")\n",
    "pyplot.show()"
   ]
  },
  {
   "cell_type": "markdown",
   "metadata": {},
   "source": [
    "# Compare different structures"
   ]
  },
  {
   "cell_type": "code",
   "execution_count": 66,
   "metadata": {},
   "outputs": [],
   "source": [
    "%matplotlib inline\n",
    "def show(history):\n",
    "    fig, axes = pyplot.subplots(1, 3, figsize=(4,2), sharex=True, sharey=True)\n",
    "    axes[0].imshow(history[\"datamap\"][0], vmin=0, vmax=10, cmap=\"gray\")\n",
    "    axes[1].imshow(history[\"scaled_power\"][0], vmin=0, vmax=1, cmap=\"Blues\")        \n",
    "    axes[2].imshow(history[\"acquisition\"][0], vmin=0, vmax=100, cmap=\"hot\")\n",
    "    for ax in axes.ravel():\n",
    "        pyplot.setp(ax.get_xticklabels(), visible=False)\n",
    "        pyplot.setp(ax.get_yticklabels(), visible=False)\n",
    "        ax.tick_params(axis='both', which='both', length=0)  \n",
    "    return fig, ax"
   ]
  },
  {
   "cell_type": "code",
   "execution_count": 67,
   "metadata": {},
   "outputs": [
    {
     "data": {
      "application/vnd.jupyter.widget-view+json": {
       "model_id": "",
       "version_major": 2,
       "version_minor": 0
      },
      "text/plain": [
       "HBox(children=(IntProgress(value=0, description='Objects', max=10, style=ProgressStyle(description_width='init…"
      ]
     },
     "metadata": {},
     "output_type": "display_data"
    },
    {
     "name": "stdout",
     "output_type": "stream",
     "text": [
      "\r"
     ]
    }
   ],
   "source": [
    "# Creates a new molecule disposition\n",
    "numpy.random.seed(42)\n",
    "random.seed(42)\n",
    "\n",
    "image = numpy.zeros((50, 50))\n",
    "ensemble = temporal.Ensemble(roi=((0, 0), image.shape))\n",
    "for _ in trange(10, desc=\"Objects\", leave=False):\n",
    "    obj = temporal.Fiber(random_params={\n",
    "        \"num_points\" : (30, 50),\n",
    "        \"pos\" : [(0, 0), image.shape]\n",
    "    })\n",
    "    ensemble.append(obj)\n",
    "molecules_disposition = ensemble.return_frame() * 2\n",
    "\n",
    "experiment = Experiment()\n",
    "\n",
    "datamap = base.Datamap(molecules_disposition, pixelsize)\n",
    "microscope = dymin.DyMINMicroscope(laser_ex, laser_sted, detector, objective, fluo)\n",
    "i_ex, _, _ = microscope.cache(datamap.pixelsize, save_cache=True)\n",
    "datamap.set_roi(i_ex, roi)\n",
    "experiment.add(\"DyMIN\", microscope, datamap)\n",
    "\n",
    "datamap = base.Datamap(molecules_disposition, pixelsize)\n",
    "microscope = base.Microscope(laser_ex, laser_sted, detector, objective, fluo)\n",
    "i_ex, _, _ = microscope.cache(datamap.pixelsize, save_cache=True)\n",
    "datamap.set_roi(i_ex, roi)\n",
    "experiment.add(\"STED\", microscope, datamap)"
   ]
  },
  {
   "cell_type": "code",
   "execution_count": 68,
   "metadata": {},
   "outputs": [
    {
     "name": "stdout",
     "output_type": "stream",
     "text": [
      "\n",
      "\n"
     ]
    }
   ],
   "source": [
    "histories = experiment.acquire_all(num_acquisition=num_acquisition, processes=2)"
   ]
  },
  {
   "cell_type": "code",
   "execution_count": 69,
   "metadata": {},
   "outputs": [
    {
     "data": {
      "image/png": "[encoded data removed]",
      "text/plain": [
       "<Figure size 216x216 with 1 Axes>"
      ]
     },
     "metadata": {
      "needs_background": "light"
     },
     "output_type": "display_data"
    }
   ],
   "source": [
    "%matplotlib inline\n",
    "plot_and_gen_gif(histories, savename=\"./panels/compare_dymin-conventional_default-structure.gif\")\n",
    "\n",
    "fig, ax = pyplot.subplots(figsize=(3, 3), tight_layout=True)\n",
    "for key in [\"STED\", \"DyMIN\"]:\n",
    "    molecules = histories[key][\"datamap\"][:, molecules_disposition != 0].mean(axis=-1)\n",
    "    ax.plot(molecules, label=key)\n",
    "ax.set(\n",
    "    ylabel=\"Avg. molecules left\", xlabel=\"Frames\"\n",
    ")\n",
    "ax.legend()\n",
    "fig.savefig(\"./panels/molecules-structure_evolution.pdf\", transparent=True, bbox_inches=\"tight\")\n",
    "pyplot.show()"
   ]
  },
  {
   "cell_type": "markdown",
   "metadata": {},
   "source": [
    "# Compare DyMIN parameters"
   ]
  },
  {
   "cell_type": "code",
   "execution_count": 74,
   "metadata": {},
   "outputs": [
    {
     "data": {
      "application/vnd.jupyter.widget-view+json": {
       "model_id": "",
       "version_major": 2,
       "version_minor": 0
      },
      "text/plain": [
       "HBox(children=(IntProgress(value=0, description='Objects', max=10, style=ProgressStyle(description_width='init…"
      ]
     },
     "metadata": {},
     "output_type": "display_data"
    },
    {
     "name": "stdout",
     "output_type": "stream",
     "text": [
      "\r"
     ]
    }
   ],
   "source": [
    "# Creates a new molecule disposition\n",
    "numpy.random.seed(42)\n",
    "random.seed(42)\n",
    "\n",
    "image = numpy.zeros((50, 50))\n",
    "ensemble = temporal.Ensemble(roi=((0, 0), image.shape))\n",
    "for _ in trange(10, desc=\"Objects\", leave=False):\n",
    "    obj = temporal.Fiber(random_params={\n",
    "        \"num_points\" : (30, 50),\n",
    "        \"pos\" : [(0, 0), image.shape]\n",
    "    })\n",
    "    ensemble.append(obj)\n",
    "molecules_disposition = ensemble.return_frame() * 2\n",
    "\n",
    "experiment = Experiment()\n",
    "\n",
    "opts = {\n",
    "    \"scale_power\" : [0., 0.25, 1.],\n",
    "    \"decision_time\" : [10e-6, 10e-6, None],\n",
    "    \"threshold_count\" : [20, 10, 0]\n",
    "}\n",
    "datamap = base.Datamap(molecules_disposition, pixelsize)\n",
    "microscope = dymin.DyMINMicroscope(laser_ex, laser_sted, detector, objective, fluo, opts)\n",
    "i_ex, _, _ = microscope.cache(datamap.pixelsize, save_cache=True)\n",
    "datamap.set_roi(i_ex, roi)\n",
    "experiment.add(\"DyMIN_tc20-10\", microscope, datamap)\n",
    "\n",
    "\n",
    "opts = {\n",
    "    \"scale_power\" : [0., 0.25, 1.],\n",
    "    \"decision_time\" : [10e-6, 10e-6, None],\n",
    "    \"threshold_count\" : [10, 5, 0]\n",
    "}\n",
    "datamap = base.Datamap(molecules_disposition, pixelsize)\n",
    "microscope = dymin.DyMINMicroscope(laser_ex, laser_sted, detector, objective, fluo, opts)\n",
    "i_ex, _, _ = microscope.cache(datamap.pixelsize, save_cache=True)\n",
    "datamap.set_roi(i_ex, roi)\n",
    "experiment.add(\"DyMIN_tc10-5\", microscope, datamap)\n",
    "\n",
    "opts = {\n",
    "    \"scale_power\" : [0., 0.25, 1.],\n",
    "    \"decision_time\" : [10e-6, 10e-6, None],\n",
    "    \"threshold_count\" : [5, 2, 0]\n",
    "}\n",
    "datamap = base.Datamap(molecules_disposition, pixelsize)\n",
    "microscope = dymin.DyMINMicroscope(laser_ex, laser_sted, detector, objective, fluo, opts)\n",
    "i_ex, _, _ = microscope.cache(datamap.pixelsize, save_cache=True)\n",
    "datamap.set_roi(i_ex, roi)\n",
    "experiment.add(\"DyMIN_tc5-2\", microscope, datamap)\n",
    "\n",
    "opts = {\n",
    "    \"scale_power\" : [0., 0.25, 1.],\n",
    "    \"decision_time\" : [10e-6, 10e-6, None],\n",
    "    \"threshold_count\" : [1, 1, 0]\n",
    "}\n",
    "datamap = base.Datamap(molecules_disposition, pixelsize)\n",
    "microscope = dymin.DyMINMicroscope(laser_ex, laser_sted, detector, objective, fluo, opts)\n",
    "i_ex, _, _ = microscope.cache(datamap.pixelsize, save_cache=True)\n",
    "datamap.set_roi(i_ex, roi)\n",
    "experiment.add(\"DyMIN_tc1-1\", microscope, datamap)"
   ]
  },
  {
   "cell_type": "code",
   "execution_count": null,
   "metadata": {},
   "outputs": [],
   "source": [
    "histories = experiment.acquire_all(num_acquisition=10, processes=4, bleach=True)"
   ]
  },
  {
   "cell_type": "code",
   "execution_count": null,
   "metadata": {},
   "outputs": [],
   "source": [
    "plot_and_gen_gif(histories, savename=\"./panels/compare_dymin-parameters_default-structure.gif\", keys=[\"DyMIN_tc10-5\", \"DyMIN_tc5-2\", \"DyMIN_tc1-1\"])"
   ]
  },
  {
   "cell_type": "code",
   "execution_count": null,
   "metadata": {},
   "outputs": [],
   "source": []
  }
 ],
 "metadata": {
  "kernelspec": {
   "display_name": "Python 3",
   "language": "python",
   "name": "python3"
  },
  "language_info": {
   "codemirror_mode": {
    "name": "ipython",
    "version": 3
   },
   "file_extension": ".py",
   "mimetype": "text/x-python",
   "name": "python",
   "nbconvert_exporter": "python",
   "pygments_lexer": "ipython3",
   "version": "3.7.4"
  }
 },
 "nbformat": 4,
 "nbformat_minor": 2
}
